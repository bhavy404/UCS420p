{
  "nbformat": 4,
  "nbformat_minor": 0,
  "metadata": {
    "colab": {
      "provenance": []
    },
    "kernelspec": {
      "name": "python3",
      "display_name": "Python 3"
    },
    "language_info": {
      "name": "python"
    }
  },
  "cells": [
    {
      "cell_type": "code",
      "execution_count": 1,
      "metadata": {
        "colab": {
          "base_uri": "https://localhost:8080/"
        },
        "id": "-rJsuSKyeFax",
        "outputId": "a4b3010b-9845-4e05-cfb3-097a968cc98b"
      },
      "outputs": [
        {
          "output_type": "stream",
          "name": "stdout",
          "text": [
            "Bhavya Raj Singh\n",
            "Bhavya Raj Singh\n",
            "Bhavya Raj Singh\n"
          ]
        }
      ],
      "source": [
        "print(\"Bhavya Raj Singh\")\n",
        "print(\"Bhavya Raj Singh\")\n",
        "print(\"Bhavya Raj Singh\")"
      ]
    },
    {
      "cell_type": "code",
      "source": [],
      "metadata": {
        "id": "3ejD0SQ4fSWA"
      },
      "execution_count": null,
      "outputs": []
    }
  ]
}