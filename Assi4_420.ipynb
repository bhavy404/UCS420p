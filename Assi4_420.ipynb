{
  "nbformat": 4,
  "nbformat_minor": 0,
  "metadata": {
    "colab": {
      "provenance": [],
      "authorship_tag": "ABX9TyO6Zuw6neePwp1nM/Gb/EL9",
      "include_colab_link": true
    },
    "kernelspec": {
      "name": "python3",
      "display_name": "Python 3"
    },
    "language_info": {
      "name": "python"
    }
  },
  "cells": [
    {
      "cell_type": "markdown",
      "metadata": {
        "id": "view-in-github",
        "colab_type": "text"
      },
      "source": [
        "<a href=\"https://colab.research.google.com/github/bhavy404/UCS420p/blob/main/Assi4_420.ipynb\" target=\"_parent\"><img src=\"https://colab.research.google.com/assets/colab-badge.svg\" alt=\"Open In Colab\"/></a>"
      ]
    },
    {
      "cell_type": "markdown",
      "source": [
        "# **ASSIGNMENT - 4**  By- Bhavya Raj Singh"
      ],
      "metadata": {
        "id": "7LWm3He5dI8I"
      }
    },
    {
      "cell_type": "markdown",
      "source": [
        "Q1. Create a NumPy 1D-array and perform operations\n",
        "python\n",
        "Copy code\n"
      ],
      "metadata": {
        "id": "9I1WhMFqbQk-"
      }
    },
    {
      "cell_type": "code",
      "execution_count": 1,
      "metadata": {
        "colab": {
          "base_uri": "https://localhost:8080/"
        },
        "id": "vJ5X1DayWc0c",
        "outputId": "b55daa46-7e22-437a-8a52-d43f99744b46"
      },
      "outputs": [
        {
          "output_type": "stream",
          "name": "stdout",
          "text": [
            "Original array: [1 2 3 4 5]\n",
            "After adding 2 to all elements: [3 4 5 6 7]\n",
            "After multiplying all elements by 3: [ 3  6  9 12 15]\n",
            "After dividing all elements by 2: [0.5 1.  1.5 2.  2.5]\n"
          ]
        }
      ],
      "source": [
        "import numpy as np\n",
        "\n",
        "\n",
        "arr = np.array([1, 2, 3, 4, 5])\n",
        "print(\"Original array:\", arr)\n",
        "\n",
        "# a) Addition of 2 in all the element\n",
        "add_arr = arr + 2\n",
        "print(\"After adding 2 to all elements:\", add_arr)\n",
        "\n",
        "# b) Multiply 3 with all the elements\n",
        "mul_arr = arr * 3\n",
        "print(\"After multiplying all elements by 3:\", mul_arr)\n",
        "\n",
        "# c) Divide every element by 2\n",
        "div_arr = arr / 2\n",
        "print(\"After dividing all elements by 2:\", div_arr)\n"
      ]
    },
    {
      "cell_type": "markdown",
      "source": [
        "Q2. Basic NumPy Array Operations"
      ],
      "metadata": {
        "id": "2rldP9S8bddc"
      }
    },
    {
      "cell_type": "markdown",
      "source": [
        "a) Reverse the NumPy array"
      ],
      "metadata": {
        "id": "NL3faIMGbhHy"
      }
    },
    {
      "cell_type": "code",
      "source": [
        "arr = np.array([1, 2, 3, 6, 4, 5])\n",
        "reversed_arr = arr[::-1]\n",
        "print(\"Reversed array:\", reversed_arr)\n"
      ],
      "metadata": {
        "colab": {
          "base_uri": "https://localhost:8080/"
        },
        "id": "lq3oTedlbUdV",
        "outputId": "929f2b75-316e-473c-9e18-093eeed4e92b"
      },
      "execution_count": 2,
      "outputs": [
        {
          "output_type": "stream",
          "name": "stdout",
          "text": [
            "Reversed array: [5 4 6 3 2 1]\n"
          ]
        }
      ]
    },
    {
      "cell_type": "markdown",
      "source": [
        "b) Find the most frequent value and their indices\n",
        "python\n",
        "Copy code\n"
      ],
      "metadata": {
        "id": "ipc6uUmtbmUO"
      }
    },
    {
      "cell_type": "code",
      "source": [
        "# i. Most frequent value and indices in x\n",
        "x = np.array([1, 2, 3, 4, 5, 1, 2, 1, 1, 1])\n",
        "most_freq_value_x = np.bincount(x).argmax()\n",
        "indices_x = np.where(x == most_freq_value_x)\n",
        "print(\"Most frequent value in x:\", most_freq_value_x)\n",
        "print(\"Indices of the most frequent value in x:\", indices_x[0])\n",
        "\n",
        "# ii. Most frequent value and indices in y\n",
        "y = np.array([1, 1, 1, 2, 3, 4, 2, 4, 3, 3])\n",
        "most_freq_value_y = np.bincount(y).argmax()\n",
        "indices_y = np.where(y == most_freq_value_y)\n",
        "print(\"Most frequent value in y:\", most_freq_value_y)\n",
        "print(\"Indices of the most frequent value in y:\", indices_y[0])\n"
      ],
      "metadata": {
        "colab": {
          "base_uri": "https://localhost:8080/"
        },
        "id": "eB-0R7irbnmm",
        "outputId": "ea881a02-8a35-4e35-cd9f-ed6bc395e04c"
      },
      "execution_count": 3,
      "outputs": [
        {
          "output_type": "stream",
          "name": "stdout",
          "text": [
            "Most frequent value in x: 1\n",
            "Indices of the most frequent value in x: [0 5 7 8 9]\n",
            "Most frequent value in y: 1\n",
            "Indices of the most frequent value in y: [0 1 2]\n"
          ]
        }
      ]
    },
    {
      "cell_type": "markdown",
      "source": [
        "Q.3 For the given 2-D array arr=np.array([10, 20, 30], [40, 50, 60], [70, 80, 90]), access\n",
        "elements using row and column indices as follows:\n",
        "a) Access 1st row, 2nd column\n",
        "b) Access 3rd row, 1st column"
      ],
      "metadata": {
        "id": "k5UkWGyhbs7-"
      }
    },
    {
      "cell_type": "code",
      "source": [
        "import numpy as np\n",
        "\n",
        "# Define 2-D array\n",
        "arr = np.array([[10, 20, 30], [40, 50, 60], [70, 80, 90]])\n",
        "\n",
        "# a) Access 1st row, 2nd column (indices start  0)\n",
        "element_a = arr[0, 1]  # R 0, C 1\n",
        "print(\"Element at 1st row, 2nd column:\", element_a)\n",
        "\n",
        "# b) Access 3rd row, 1st column\n",
        "element_b = arr[2, 0]  # R 2, C 0\n",
        "print(\"Element at 3rd row, 1st column:\", element_b)\n"
      ],
      "metadata": {
        "colab": {
          "base_uri": "https://localhost:8080/"
        },
        "id": "o__T7TP5b5DR",
        "outputId": "a1ba3bc6-7a7f-419f-d1b5-48a75ee0f45d"
      },
      "execution_count": 4,
      "outputs": [
        {
          "output_type": "stream",
          "name": "stdout",
          "text": [
            "Element at 1st row, 2nd column: 20\n",
            "Element at 3rd row, 1st column: 70\n"
          ]
        }
      ]
    },
    {
      "cell_type": "markdown",
      "source": [
        "Q. 4 Write program to create an 1-D NumPy array named <<Your Name>> with evenly\n",
        "spaced 25 numbers from 10 to 100 using linspace(). Print the dimensions of the array,\n",
        "shape, total elements, the data type of each element and total number of bytes consumed\n",
        "by the array. Find the transpose of this array using reshape() attribute. Can we do the same\n",
        "with T attribute?"
      ],
      "metadata": {
        "id": "ccYYsNyYcR6X"
      }
    },
    {
      "cell_type": "code",
      "source": [
        "import numpy as np\n",
        "\n",
        "\n",
        "bhavya = np.linspace(10, 100, 25)\n",
        "\n",
        "\n",
        "print(\"1-D Array:\\n\", bhavya)\n",
        "print(\"Dimensions of the array:\", bhavya.ndim)\n",
        "print(\"Shape of the array:\", bhavya.shape)\n",
        "print(\"Total number of elements:\", bhavya.size)\n",
        "print(\"Data type of each element:\", bhavya.dtype)\n",
        "print(\"Total number of bytes consumed by the array:\", bhavya.nbytes)\n",
        "\n",
        "\n",
        "transposed_array = bhavya.reshape(25, 1)\n",
        "print(\"\\nTranspose using reshape():\\n\", transposed_array)\n",
        "\n",
        "\n",
        "print(\"\\nTranspose using .T:\\n\", bhavya.T)\n",
        "\n",
        "\n",
        "print(\"\\nCan we transpose a 1-D array using .T?\")\n",
        "print(\"No, the `.T` attribute does not transpose a 1-D array because it has no second axis.\")\n",
        "print(\"However, reshaping it first (e.g., into a 2-D array) allows `.T` to work.\")\n"
      ],
      "metadata": {
        "colab": {
          "base_uri": "https://localhost:8080/"
        },
        "id": "neC7aMZUcSzt",
        "outputId": "818f35ce-368b-4d7c-f4f6-f46a51429ffb"
      },
      "execution_count": 5,
      "outputs": [
        {
          "output_type": "stream",
          "name": "stdout",
          "text": [
            "1-D Array:\n",
            " [ 10.    13.75  17.5   21.25  25.    28.75  32.5   36.25  40.    43.75\n",
            "  47.5   51.25  55.    58.75  62.5   66.25  70.    73.75  77.5   81.25\n",
            "  85.    88.75  92.5   96.25 100.  ]\n",
            "Dimensions of the array: 1\n",
            "Shape of the array: (25,)\n",
            "Total number of elements: 25\n",
            "Data type of each element: float64\n",
            "Total number of bytes consumed by the array: 200\n",
            "\n",
            "Transpose using reshape():\n",
            " [[ 10.  ]\n",
            " [ 13.75]\n",
            " [ 17.5 ]\n",
            " [ 21.25]\n",
            " [ 25.  ]\n",
            " [ 28.75]\n",
            " [ 32.5 ]\n",
            " [ 36.25]\n",
            " [ 40.  ]\n",
            " [ 43.75]\n",
            " [ 47.5 ]\n",
            " [ 51.25]\n",
            " [ 55.  ]\n",
            " [ 58.75]\n",
            " [ 62.5 ]\n",
            " [ 66.25]\n",
            " [ 70.  ]\n",
            " [ 73.75]\n",
            " [ 77.5 ]\n",
            " [ 81.25]\n",
            " [ 85.  ]\n",
            " [ 88.75]\n",
            " [ 92.5 ]\n",
            " [ 96.25]\n",
            " [100.  ]]\n",
            "\n",
            "Transpose using .T:\n",
            " [ 10.    13.75  17.5   21.25  25.    28.75  32.5   36.25  40.    43.75\n",
            "  47.5   51.25  55.    58.75  62.5   66.25  70.    73.75  77.5   81.25\n",
            "  85.    88.75  92.5   96.25 100.  ]\n",
            "\n",
            "Can we transpose a 1-D array using .T?\n",
            "No, the `.T` attribute does not transpose a 1-D array because it has no second axis.\n",
            "However, reshaping it first (e.g., into a 2-D array) allows `.T` to work.\n"
          ]
        }
      ]
    },
    {
      "cell_type": "markdown",
      "source": [
        "Q. 5 Create a 2-D Array of three rows and four columns, named ucs420_<your_name>>\n",
        "with following values – 10, 20, 30, 40, 50, 60, 70, 80, 90, 15, 20, 35. Compute the mean,\n",
        "median, max, min, unique elements. Reshape the array to four rows and three columns and\n",
        "name it as reshaped_ ucs420_<your_name>>. Resize the array to two rows and three\n",
        "columns and name it as resized_ ucs420_<your_name>>.\n"
      ],
      "metadata": {
        "id": "x7qBaYyXc9he"
      }
    },
    {
      "cell_type": "code",
      "source": [
        "import numpy as np\n",
        "\n",
        "\n",
        "ucs420_Bhavya = np.array([[10, 20, 30, 40], [50, 60, 70, 80], [90, 15, 20, 35]])\n",
        "\n",
        "\n",
        "mean_value = np.mean(ucs420_Bhavya)\n",
        "median_value = np.median(ucs420_Bhavya)\n",
        "max_value = np.max(ucs420_Bhavya)\n",
        "min_value = np.min(ucs420_Bhavya)\n",
        "unique_elements = np.unique(ucs420_Bhavya)\n",
        "\n",
        "\n",
        "print(\"Original Array (ucs420_Bhavya):\\n\", ucs420_Bhavya)\n",
        "print(\"Mean:\", mean_value)\n",
        "print(\"Median:\", median_value)\n",
        "print(\"Maximum:\", max_value)\n",
        "print(\"Minimum:\", min_value)\n",
        "print(\"Unique elements:\", unique_elements)\n",
        "\n",
        "\n",
        "reshaped_ucs420_Bhavya = ucs420_Bhavya.reshape(4, 3)\n",
        "print(\"\\nReshaped Array (4 rows x 3 columns):\\n\", reshaped_ucs420_Bhavya)\n",
        "\n",
        "\n",
        "resized_ucs420_Bhavya = np.resize(ucs420_Bhavya, (2, 3))\n",
        "print(\"\\nResized Array (2 rows x 3 columns):\\n\", resized_ucs420_Bhavya)\n"
      ],
      "metadata": {
        "colab": {
          "base_uri": "https://localhost:8080/"
        },
        "id": "ANu7bD_pc-yl",
        "outputId": "8e3e8300-7ca5-4144-9589-baedb1fba5de"
      },
      "execution_count": 6,
      "outputs": [
        {
          "output_type": "stream",
          "name": "stdout",
          "text": [
            "Original Array (ucs420_Bhavya):\n",
            " [[10 20 30 40]\n",
            " [50 60 70 80]\n",
            " [90 15 20 35]]\n",
            "Mean: 43.333333333333336\n",
            "Median: 37.5\n",
            "Maximum: 90\n",
            "Minimum: 10\n",
            "Unique elements: [10 15 20 30 35 40 50 60 70 80 90]\n",
            "\n",
            "Reshaped Array (4 rows x 3 columns):\n",
            " [[10 20 30]\n",
            " [40 50 60]\n",
            " [70 80 90]\n",
            " [15 20 35]]\n",
            "\n",
            "Resized Array (2 rows x 3 columns):\n",
            " [[10 20 30]\n",
            " [40 50 60]]\n"
          ]
        }
      ]
    }
  ]
}