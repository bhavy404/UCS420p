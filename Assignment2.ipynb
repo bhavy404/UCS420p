{
  "nbformat": 4,
  "nbformat_minor": 0,
  "metadata": {
    "colab": {
      "provenance": []
    },
    "kernelspec": {
      "name": "python3",
      "display_name": "Python 3"
    },
    "language_info": {
      "name": "python"
    }
  },
  "cells": [
    {
      "cell_type": "code",
      "execution_count": 1,
      "metadata": {
        "colab": {
          "base_uri": "https://localhost:8080/"
        },
        "id": "zmpX2F0If7-I",
        "outputId": "e2c5c993-10d8-45a6-90fe-af40264f3151"
      },
      "outputs": [
        {
          "output_type": "stream",
          "name": "stdout",
          "text": [
            "6\n"
          ]
        }
      ],
      "source": [
        "\n",
        "a = 1\n",
        "b = 2\n",
        "c = 3\n",
        "print(a+b+c)"
      ]
    },
    {
      "cell_type": "code",
      "source": [
        "a = \"Bhavya Raj \"\n",
        "b = \"Singh \"\n",
        "c = \"2Q26\"\n",
        "print(a + b + c)"
      ],
      "metadata": {
        "colab": {
          "base_uri": "https://localhost:8080/"
        },
        "id": "exngzxm1gCK2",
        "outputId": "4efd405e-b54b-4451-a53c-e4492a8c0a5b"
      },
      "execution_count": 2,
      "outputs": [
        {
          "output_type": "stream",
          "name": "stdout",
          "text": [
            "Bhavya Raj Singh 2Q26\n"
          ]
        }
      ]
    },
    {
      "cell_type": "code",
      "source": [],
      "metadata": {
        "id": "-e37zNaDgRYK"
      },
      "execution_count": null,
      "outputs": []
    }
  ]
}