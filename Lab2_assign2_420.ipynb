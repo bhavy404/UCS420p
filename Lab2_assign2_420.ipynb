{
  "nbformat": 4,
  "nbformat_minor": 0,
  "metadata": {
    "colab": {
      "provenance": [],
      "authorship_tag": "ABX9TyNIciZ5tS13tIbrqFOSgu8E",
      "include_colab_link": true
    },
    "kernelspec": {
      "name": "python3",
      "display_name": "Python 3"
    },
    "language_info": {
      "name": "python"
    }
  },
  "cells": [
    {
      "cell_type": "markdown",
      "metadata": {
        "id": "view-in-github",
        "colab_type": "text"
      },
      "source": [
        "<a href=\"https://colab.research.google.com/github/bhavy404/UCS420p/blob/main/Lab2_assign2_420.ipynb\" target=\"_parent\"><img src=\"https://colab.research.google.com/assets/colab-badge.svg\" alt=\"Open In Colab\"/></a>"
      ]
    },
    {
      "cell_type": "markdown",
      "source": [
        "# ***ASSIGNMENT 2*** by- Bhavya Raj Singh"
      ],
      "metadata": {
        "id": "91kzrTqxYw1N"
      }
    },
    {
      "cell_type": "markdown",
      "source": [
        "**Q. 1** Create a List L that is defined as= [10, 20, 30, 40, 50, 60, 70, 80].\n",
        "i. WAP to add 200 and 300 to L.\n",
        "ii. WAP to remove 10 and 30 from L.\n",
        "iii. WAP to sort L in ascending order.\n",
        "iv. WAP to sort L in descending order."
      ],
      "metadata": {
        "id": "rPXaxmotbF_c"
      }
    },
    {
      "cell_type": "code",
      "execution_count": null,
      "metadata": {
        "colab": {
          "base_uri": "https://localhost:8080/"
        },
        "id": "j2tadP9QYj25",
        "outputId": "c36f127e-2a6c-4b97-8554-1fb64b07995f"
      },
      "outputs": [
        {
          "output_type": "stream",
          "name": "stdout",
          "text": [
            "List after adding 200 and 300: [10, 20, 30, 40, 50, 60, 70, 80, 200, 300]\n",
            "List after removing 10 and 30: [20, 40, 50, 60, 70, 80, 200, 300]\n",
            "List in ascending order: [20, 40, 50, 60, 70, 80, 200, 300]\n",
            "List in descending order: [300, 200, 80, 70, 60, 50, 40, 20]\n"
          ]
        }
      ],
      "source": [
        "\n",
        "L = [10, 20, 30, 40, 50, 60, 70, 80]\n",
        "\n",
        "\n",
        "L.append(200)\n",
        "L.append(300)\n",
        "print(f\"List after adding 200 and 300: {L}\")\n",
        "\n",
        "\n",
        "L.remove(10)\n",
        "L.remove(30)\n",
        "print(f\"List after removing 10 and 30: {L}\")\n",
        "\n",
        "\n",
        "L.sort()\n",
        "print(f\"List in ascending order: {L}\")\n",
        "\n",
        "\n",
        "L.sort(reverse=True)\n",
        "print(f\"List in descending order: {L}\")\n"
      ]
    },
    {
      "cell_type": "markdown",
      "source": [
        "**Q. 2** Create a tuple of marks scored as scores = (45, 89.5, 76, 45.4, 89, 92, 58, 45) and\n",
        "perform the following operations using tuple functions:\n",
        "i. Identify the highest score and its index in the tuple.\n",
        "ii. Find the lowest score and count how many times it appears.\n",
        "iii. Reverse the tuple and return it as a list.\n",
        "iv. Check if a specific score ‘76’ (input by the user) is present in the tuple and\n",
        "print its first occurrence index, or a message saying it’s not present."
      ],
      "metadata": {
        "id": "Jb1dENnicouk"
      }
    },
    {
      "cell_type": "code",
      "source": [
        "\n",
        "scores = (45, 89.5, 76, 45.4, 89, 92, 58, 45)\n",
        "\n",
        "\n",
        "highest_score = max(scores)\n",
        "highest_index = scores.index(highest_score)\n",
        "print(f\"Highest score: {highest_score}, Index: {highest_index}\")\n",
        "\n",
        "\n",
        "lowest_score = min(scores)\n",
        "lowest_count = scores.count(lowest_score)\n",
        "print(f\"Lowest score: {lowest_score}, Count: {lowest_count}\")\n",
        "\n",
        "\n",
        "reversed_list = list(reversed(scores))\n",
        "print(f\"Reversed tuple as list: {reversed_list}\")\n",
        "\n",
        "\n",
        "specific_score = int(input(\"Enter a score to check (e.g., 76): \"))\n",
        "if specific_score in scores:\n",
        "    first_index = scores.index(specific_score)\n",
        "    print(f\"The score {specific_score} is present at index {first_index}.\")\n",
        "else:\n",
        "    print(f\"The score {specific_score} is not present in the tuple.\")\n"
      ],
      "metadata": {
        "colab": {
          "base_uri": "https://localhost:8080/"
        },
        "id": "MEoamcs5bQWU",
        "outputId": "e14a2765-5efd-4448-d771-3c6686cbf48d"
      },
      "execution_count": null,
      "outputs": [
        {
          "output_type": "stream",
          "name": "stdout",
          "text": [
            "Highest score: 92, Index: 5\n",
            "Lowest score: 45, Count: 2\n",
            "Reversed tuple as list: [45, 58, 92, 89, 45.4, 76, 89.5, 45]\n",
            "Enter a score to check (e.g., 76): 55\n",
            "The score 55 is not present in the tuple.\n"
          ]
        }
      ]
    },
    {
      "cell_type": "markdown",
      "source": [
        "**Q. 3** WAP to create a list of 100 random numbers between 100 and 900. Count and print\n",
        "the:\n",
        "i. All odd numbers\n",
        "ii. All even numbers\n",
        "iii. All prime numbers"
      ],
      "metadata": {
        "id": "nelEphv5notw"
      }
    },
    {
      "cell_type": "code",
      "source": [
        "import random\n",
        "\n",
        "\n",
        "numbers = [random.randint(100, 900) for _ in range(100)]\n",
        "\n",
        "\n",
        "def is_prime(num):\n",
        "    if num <= 1:\n",
        "        return False\n",
        "    for i in range(2, int(num ** 0.5) + 1):\n",
        "        if num % i == 0:\n",
        "            return False\n",
        "    return True\n",
        "\n",
        "\n",
        "odd_numbers = [num for num in numbers if num % 2 != 0]\n",
        "print(f\"Odd Numbers ({len(odd_numbers)}): {odd_numbers}\")\n",
        "\n",
        "\n",
        "even_numbers = [num for num in numbers if num % 2 == 0]\n",
        "print(f\"Even Numbers ({len(even_numbers)}): {even_numbers}\")\n",
        "\n",
        "\n",
        "prime_numbers = [num for num in numbers if is_prime(num)]\n",
        "print(f\"Prime Numbers ({len(prime_numbers)}): {prime_numbers}\")\n"
      ],
      "metadata": {
        "colab": {
          "base_uri": "https://localhost:8080/"
        },
        "id": "OromOI9CeTuD",
        "outputId": "c1d61a34-52c6-4fe3-a8a5-8e0606db9cfa"
      },
      "execution_count": null,
      "outputs": [
        {
          "output_type": "stream",
          "name": "stdout",
          "text": [
            "Odd Numbers (46): [415, 771, 117, 161, 783, 487, 607, 527, 469, 465, 493, 387, 103, 251, 319, 637, 733, 169, 161, 249, 543, 593, 697, 247, 867, 223, 519, 351, 765, 469, 713, 607, 717, 855, 215, 179, 615, 501, 517, 787, 209, 415, 685, 255, 651, 589]\n",
            "Even Numbers (54): [220, 508, 424, 422, 750, 468, 576, 114, 772, 328, 158, 810, 582, 824, 748, 572, 744, 408, 872, 604, 702, 632, 602, 406, 724, 732, 596, 508, 578, 580, 742, 538, 142, 634, 754, 726, 880, 546, 136, 726, 646, 234, 354, 208, 692, 592, 540, 380, 100, 266, 762, 772, 848, 848]\n",
            "Prime Numbers (10): [487, 607, 103, 251, 733, 593, 223, 607, 179, 787]\n"
          ]
        }
      ]
    },
    {
      "cell_type": "markdown",
      "source": [
        "**Q. 4** Consider the following two sets, A and B, representing scores of two teams in mulƟple\n",
        "matches. A = {34, 56, 78, 90} and B = {78, 45, 90, 23}\n",
        "WAP to perform the following operations using set functions:\n",
        "i. Find the unique scores achieved by both teams (union of sets).\n",
        "ii. Identify the scores that are common to both teams (intersection of sets).\n",
        "iii. Find the scores that are exclusive to each team (symmetric difference).\n",
        "iv. Check if the scores of team A are a subset of team B, and if team B's scores are\n",
        "a superset of team A.\n",
        "v. Remove a specific score X (input by the user) from set A if it exists. If not, print\n",
        "a message saying it is not present."
      ],
      "metadata": {
        "id": "kzyhfg_ioyfB"
      }
    },
    {
      "cell_type": "code",
      "source": [
        "\n",
        "A = {34, 56, 78, 90}\n",
        "B = {78, 45, 90, 23}\n",
        "\n",
        "\n",
        "union_scores = A.union(B)\n",
        "print(f\"Union of A and B (Unique scores): {union_scores}\")\n",
        "\n",
        "\n",
        "common_scores = A.intersection(B)\n",
        "print(f\"Intersection of A and B (Common scores): {common_scores}\")\n",
        "\n",
        "\n",
        "exclusive_scores = A.symmetric_difference(B)\n",
        "print(f\"Symmetric Difference (Exclusive scores): {exclusive_scores}\")\n",
        "\n",
        "\n",
        "is_subset = A.issubset(B)\n",
        "is_superset = B.issuperset(A)\n",
        "print(f\"Is A a subset of B? {is_subset}\")\n",
        "print(f\"Is B a superset of A? {is_superset}\")\n",
        "\n",
        "\n",
        "X = int(input(\"Enter a score to remove from set A: \"))\n",
        "if X in A:\n",
        "    A.remove(X)\n",
        "    print(f\"Score {X} removed from set A. Updated A: {A}\")\n",
        "else:\n",
        "    print(f\"Score {X} is not present in set A.\")"
      ],
      "metadata": {
        "colab": {
          "base_uri": "https://localhost:8080/"
        },
        "id": "xnDfXBzcfi_6",
        "outputId": "06d6403d-2e16-48d9-d566-31e4b070abd0"
      },
      "execution_count": null,
      "outputs": [
        {
          "output_type": "stream",
          "name": "stdout",
          "text": [
            "Union of A and B (Unique scores): {34, 45, 78, 23, 56, 90}\n",
            "Intersection of A and B (Common scores): {90, 78}\n",
            "Symmetric Difference (Exclusive scores): {34, 45, 23, 56}\n",
            "Is A a subset of B? False\n",
            "Is B a superset of A? False\n",
            "Enter a score to remove from set A: 56\n",
            "Score 56 removed from set A. Updated A: {34, 90, 78}\n"
          ]
        }
      ]
    }
  ]
}