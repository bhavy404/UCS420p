{
  "nbformat": 4,
  "nbformat_minor": 0,
  "metadata": {
    "colab": {
      "provenance": []
    },
    "kernelspec": {
      "name": "python3",
      "display_name": "Python 3"
    },
    "language_info": {
      "name": "python"
    }
  },
  "cells": [
    {
      "cell_type": "markdown",
      "source": [
        "Q6.1\n"
      ],
      "metadata": {
        "id": "d2bBT5y_iQkp"
      }
    },
    {
      "cell_type": "code",
      "execution_count": 1,
      "metadata": {
        "colab": {
          "base_uri": "https://localhost:8080/"
        },
        "id": "pY9wYmjWiO3Z",
        "outputId": "ad5b2431-a65f-4f9a-ac6c-c7de2f44f46f"
      },
      "outputs": [
        {
          "output_type": "stream",
          "name": "stdout",
          "text": [
            "Enter n: 5\n",
            "9\n"
          ]
        }
      ],
      "source": [
        "def is_odd(n):\n",
        "  if n%2!=0:\n",
        "    return True\n",
        "  return False\n",
        "a = int(input(\"Enter n: \"))\n",
        "sum1 = 0\n",
        "for i in range(1,a+1):\n",
        "  if is_odd(i)==True:\n",
        "    sum1 += i\n",
        "print(sum1)"
      ]
    },
    {
      "cell_type": "markdown",
      "source": [
        "Q6.2"
      ],
      "metadata": {
        "id": "XRGImS3eipyX"
      }
    },
    {
      "cell_type": "code",
      "source": [
        "def IsPrime(n):\n",
        "\tfor i in range(2, n//2 + 1):\n",
        "\t\tif n%i==0:\n",
        "\t\t\treturn 0\n",
        "\treturn 1\n",
        "a = int(input(\"Enter n: \"))\n",
        "sum1 = 0\n",
        "for i in range(1,a+1):\n",
        "  if IsPrime(i)==1:\n",
        "    sum1 += i\n",
        "print(sum1-1)"
      ],
      "metadata": {
        "colab": {
          "base_uri": "https://localhost:8080/"
        },
        "id": "tX_YLKsmiWJf",
        "outputId": "833a9396-ef2d-4ff5-99c6-46f4917bfc4d"
      },
      "execution_count": 2,
      "outputs": [
        {
          "output_type": "stream",
          "name": "stdout",
          "text": [
            "Enter n: 10\n",
            "17\n"
          ]
        }
      ]
    }
  ]
}