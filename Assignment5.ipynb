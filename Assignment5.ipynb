{
  "nbformat": 4,
  "nbformat_minor": 0,
  "metadata": {
    "colab": {
      "provenance": []
    },
    "kernelspec": {
      "name": "python3",
      "display_name": "Python 3"
    },
    "language_info": {
      "name": "python"
    }
  },
  "cells": [
    {
      "cell_type": "markdown",
      "source": [
        "Q5.1\n"
      ],
      "metadata": {
        "id": "OYOWkCehhMxc"
      }
    },
    {
      "cell_type": "code",
      "execution_count": 1,
      "metadata": {
        "colab": {
          "base_uri": "https://localhost:8080/"
        },
        "id": "mIhrgrfthKga",
        "outputId": "04c4e754-8b44-4e1a-9e42-255b90b441b7"
      },
      "outputs": [
        {
          "output_type": "stream",
          "name": "stdout",
          "text": [
            "Enter 1st number: 5\n",
            "Enter 2nd number: 6\n",
            "Enter 3rd number: 3\n",
            "6\n"
          ]
        }
      ],
      "source": [
        "\n",
        "a = int(input(\"Enter 1st number: \"))\n",
        "b = int(input(\"Enter 2nd number: \"))\n",
        "c = int(input(\"Enter 3rd number: \"))\n",
        "print(max(a,b,c))"
      ]
    },
    {
      "cell_type": "markdown",
      "source": [
        "Q5.2\n"
      ],
      "metadata": {
        "id": "OqSk5Jxyhn6u"
      }
    },
    {
      "cell_type": "code",
      "source": [
        "a = int(input(\"Enter n: \"))\n",
        "sum1 = 0\n",
        "for i in range(1,a+1):\n",
        "  if i%7==0 and i%9==0:\n",
        "    sum1 = sum1 + i\n",
        "print(sum1)"
      ],
      "metadata": {
        "colab": {
          "base_uri": "https://localhost:8080/"
        },
        "id": "SfIMuKA7hUkZ",
        "outputId": "591bcbe0-bee4-4b68-a62f-4f45b407f17f"
      },
      "execution_count": 2,
      "outputs": [
        {
          "output_type": "stream",
          "name": "stdout",
          "text": [
            "Enter n: 100\n",
            "63\n"
          ]
        }
      ]
    },
    {
      "cell_type": "markdown",
      "source": [
        "Q5.3\n"
      ],
      "metadata": {
        "id": "GxUTQ_--h0pF"
      }
    },
    {
      "cell_type": "code",
      "source": [
        "def is_prime(n):\n",
        "    if n <= 1:\n",
        "        return False\n",
        "    for i in range(2, int(n ** 0.5) + 1):\n",
        "        if n % i == 0:\n",
        "            return False\n",
        "    return True\n",
        "a = int(input(\"Enter n: \"))\n",
        "sum1 = 0\n",
        "for i in range(1,a+1):\n",
        "  b = is_prime(i)\n",
        "  if b==True:\n",
        "    sum1 += i\n",
        "print(sum1)"
      ],
      "metadata": {
        "colab": {
          "base_uri": "https://localhost:8080/"
        },
        "id": "WsV7gHZZhv_w",
        "outputId": "93d0abc8-3ac6-4321-ebb6-416445efee48"
      },
      "execution_count": 3,
      "outputs": [
        {
          "output_type": "stream",
          "name": "stdout",
          "text": [
            "Enter n: 10\n",
            "17\n"
          ]
        }
      ]
    },
    {
      "cell_type": "code",
      "source": [],
      "metadata": {
        "id": "FENK5crYh92e"
      },
      "execution_count": null,
      "outputs": []
    }
  ]
}